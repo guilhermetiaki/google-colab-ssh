{
  "nbformat": 4,
  "nbformat_minor": 0,
  "metadata": {
    "colab": {
      "name": "google-colab-ssh.ipynb",
      "provenance": [],
      "collapsed_sections": []
    },
    "kernelspec": {
      "name": "python3",
      "display_name": "Python 3"
    }
  },
  "cells": [
    {
      "cell_type": "code",
      "metadata": {
        "id": "HCHdsxzg9TE8",
        "colab_type": "code",
        "colab": {}
      },
      "source": [
        "# Change these two lines\n",
        "ssh_key = \"ssh-rsa AAAAB3N...\"\n",
        "ngrok_token = \"sEv...\"\n",
        "\n",
        "import json\n",
        "import re\n",
        "\n",
        "# Download OpenSSH and ngrok\n",
        "! wget -q -c -nc https://bin.equinox.io/c/4VmDzA7iaHb/ngrok-stable-linux-amd64.zip\n",
        "! unzip -qq -n ngrok-stable-linux-amd64.zip\n",
        "! apt-get install openssh-server > /dev/null\n",
        "\n",
        "# Setup OpenSSH\n",
        "! echo \"PermitRootLogin yes\" >> /etc/ssh/sshd_config\n",
        "! echo \"PubkeyAuthentication    yes\" >> /etc/ssh/sshd_config\n",
        "! echo \"AuthorizedKeysFile  .ssh/authorized_keys\" >> /etc/ssh/sshd_config\n",
        "\n",
        "# Setup CUDA\n",
        "! echo \"LD_LIBRARY_PATH=/usr/lib64-nvidia\" >> /root/.bashrc\n",
        "! echo \"export LD_LIBRARY_PATH\" >> /root/.bashrc\n",
        "\n",
        "# Copy ngrok token and SSH key\n",
        "! mkdir -p ~/.ssh\n",
        "! touch ~/.ssh/authorized_keys\n",
        "! echo $ssh_key > ~/.ssh/authorized_keys\n",
        "! ./ngrok authtoken $ngrok_token > /dev/null\n",
        "\n",
        "# Restart SSH server\n",
        "! /etc/init.d/ssh restart > /dev/null\n",
        "\n",
        "# Start ngrok tunnel\n",
        "get_ipython().system_raw(\"./ngrok tcp 22 &\")\n",
        "\n",
        "# Get SSH address\n",
        "for i in range(20):\n",
        "    try:\n",
        "        ngrok_info = ! curl -s http://localhost:4040/api/tunnels\n",
        "        ngrok_info = str(\"\".join(ngrok_info))\n",
        "        url = json.loads(ngrok_info)[\"tunnels\"][0][\"public_url\"]\n",
        "        domain = re.search(\"tcp://(.*):\", url).group(1)\n",
        "        port = re.search(\":([0-9]*$)\", url).group(1)\n",
        "        print(\"ssh root@\" + domain + \" -p \" + port)\n",
        "    except Exception as e:\n",
        "        pass\n",
        "    else:\n",
        "        break\n",
        "\n",
        "    print(\"Unable to open SSH.\")"
      ],
      "execution_count": 0,
      "outputs": []
    }
  ]
}